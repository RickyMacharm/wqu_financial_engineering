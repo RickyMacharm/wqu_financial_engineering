{
 "cells": [
  {
   "cell_type": "code",
   "execution_count": 1,
   "metadata": {},
   "outputs": [
    {
     "name": "stdout",
     "output_type": "stream",
     "text": [
      "Collecting yfinance\n",
      "  Downloading https://files.pythonhosted.org/packages/c2/31/8b374a12b90def92a4e27d0fc595fc43635f395984e36a075244d98bd265/yfinance-0.1.54.tar.gz\n",
      "Requirement already satisfied, skipping upgrade: pandas>=0.24 in c:\\users\\thquy\\anaconda3\\lib\\site-packages (from yfinance) (0.24.2)\n",
      "Requirement already satisfied, skipping upgrade: numpy>=1.15 in c:\\users\\thquy\\anaconda3\\lib\\site-packages (from yfinance) (1.15.4)\n",
      "Requirement already satisfied, skipping upgrade: requests>=2.20 in c:\\users\\thquy\\anaconda3\\lib\\site-packages (from yfinance) (2.21.0)\n",
      "Requirement already satisfied, skipping upgrade: multitasking>=0.0.7 in c:\\users\\thquy\\anaconda3\\lib\\site-packages (from yfinance) (0.0.9)\n",
      "Requirement already satisfied, skipping upgrade: pytz>=2011k in c:\\users\\thquy\\anaconda3\\lib\\site-packages (from pandas>=0.24->yfinance) (2018.7)\n",
      "Requirement already satisfied, skipping upgrade: python-dateutil>=2.5.0 in c:\\users\\thquy\\anaconda3\\lib\\site-packages (from pandas>=0.24->yfinance) (2.7.5)\n",
      "Requirement already satisfied, skipping upgrade: chardet<3.1.0,>=3.0.2 in c:\\users\\thquy\\anaconda3\\lib\\site-packages (from requests>=2.20->yfinance) (3.0.4)\n",
      "Requirement already satisfied, skipping upgrade: idna<2.9,>=2.5 in c:\\users\\thquy\\anaconda3\\lib\\site-packages (from requests>=2.20->yfinance) (2.8)\n",
      "Requirement already satisfied, skipping upgrade: urllib3<1.25,>=1.21.1 in c:\\users\\thquy\\anaconda3\\lib\\site-packages (from requests>=2.20->yfinance) (1.24.1)\n",
      "Requirement already satisfied, skipping upgrade: certifi>=2017.4.17 in c:\\users\\thquy\\anaconda3\\lib\\site-packages (from requests>=2.20->yfinance) (2019.11.28)\n",
      "Requirement already satisfied, skipping upgrade: six>=1.5 in c:\\users\\thquy\\anaconda3\\lib\\site-packages (from python-dateutil>=2.5.0->pandas>=0.24->yfinance) (1.12.0)\n",
      "Installing collected packages: yfinance\n",
      "  Found existing installation: yfinance 0.1.43\n",
      "    Uninstalling yfinance-0.1.43:\n",
      "      Successfully uninstalled yfinance-0.1.43\n",
      "  Running setup.py install for yfinance: started\n",
      "    Running setup.py install for yfinance: finished with status 'done'\n",
      "Successfully installed yfinance-0.1.54\n"
     ]
    }
   ],
   "source": [
    "!pip install yfinance --upgrade --no-cache-dir\n",
    "import yfinance as yf\n",
    "import numpy as np\n",
    "import pandas as pd\n",
    "from sklearn.model_selection import train_test_split"
   ]
  },
  {
   "cell_type": "markdown",
   "metadata": {},
   "source": [
    "# 1a. Download 2 year stock prices of Apple and Facebook in 2018 2019"
   ]
  },
  {
   "cell_type": "code",
   "execution_count": 3,
   "metadata": {},
   "outputs": [
    {
     "data": {
      "text/html": [
       "<div>\n",
       "<style scoped>\n",
       "    .dataframe tbody tr th:only-of-type {\n",
       "        vertical-align: middle;\n",
       "    }\n",
       "\n",
       "    .dataframe tbody tr th {\n",
       "        vertical-align: top;\n",
       "    }\n",
       "\n",
       "    .dataframe thead tr th {\n",
       "        text-align: left;\n",
       "    }\n",
       "\n",
       "    .dataframe thead tr:last-of-type th {\n",
       "        text-align: right;\n",
       "    }\n",
       "</style>\n",
       "<table border=\"1\" class=\"dataframe\">\n",
       "  <thead>\n",
       "    <tr>\n",
       "      <th></th>\n",
       "      <th colspan=\"2\" halign=\"left\">Adj Close</th>\n",
       "      <th colspan=\"2\" halign=\"left\">Close</th>\n",
       "      <th colspan=\"2\" halign=\"left\">High</th>\n",
       "      <th colspan=\"2\" halign=\"left\">Low</th>\n",
       "      <th colspan=\"2\" halign=\"left\">Open</th>\n",
       "      <th colspan=\"2\" halign=\"left\">Volume</th>\n",
       "    </tr>\n",
       "    <tr>\n",
       "      <th></th>\n",
       "      <th>AAPL</th>\n",
       "      <th>FB</th>\n",
       "      <th>AAPL</th>\n",
       "      <th>FB</th>\n",
       "      <th>AAPL</th>\n",
       "      <th>FB</th>\n",
       "      <th>AAPL</th>\n",
       "      <th>FB</th>\n",
       "      <th>AAPL</th>\n",
       "      <th>FB</th>\n",
       "      <th>AAPL</th>\n",
       "      <th>FB</th>\n",
       "    </tr>\n",
       "    <tr>\n",
       "      <th>Date</th>\n",
       "      <th></th>\n",
       "      <th></th>\n",
       "      <th></th>\n",
       "      <th></th>\n",
       "      <th></th>\n",
       "      <th></th>\n",
       "      <th></th>\n",
       "      <th></th>\n",
       "      <th></th>\n",
       "      <th></th>\n",
       "      <th></th>\n",
       "      <th></th>\n",
       "    </tr>\n",
       "  </thead>\n",
       "  <tbody>\n",
       "    <tr>\n",
       "      <th>2018-01-02</th>\n",
       "      <td>166.804016</td>\n",
       "      <td>181.419998</td>\n",
       "      <td>172.259995</td>\n",
       "      <td>181.419998</td>\n",
       "      <td>172.300003</td>\n",
       "      <td>181.580002</td>\n",
       "      <td>169.259995</td>\n",
       "      <td>177.550003</td>\n",
       "      <td>170.160004</td>\n",
       "      <td>177.679993</td>\n",
       "      <td>25555900</td>\n",
       "      <td>18151900</td>\n",
       "    </tr>\n",
       "    <tr>\n",
       "      <th>2018-01-03</th>\n",
       "      <td>166.774963</td>\n",
       "      <td>184.669998</td>\n",
       "      <td>172.229996</td>\n",
       "      <td>184.669998</td>\n",
       "      <td>174.550003</td>\n",
       "      <td>184.779999</td>\n",
       "      <td>171.960007</td>\n",
       "      <td>181.330002</td>\n",
       "      <td>172.529999</td>\n",
       "      <td>181.880005</td>\n",
       "      <td>29517900</td>\n",
       "      <td>16886600</td>\n",
       "    </tr>\n",
       "    <tr>\n",
       "      <th>2018-01-04</th>\n",
       "      <td>167.549622</td>\n",
       "      <td>184.330002</td>\n",
       "      <td>173.029999</td>\n",
       "      <td>184.330002</td>\n",
       "      <td>173.470001</td>\n",
       "      <td>186.210007</td>\n",
       "      <td>172.080002</td>\n",
       "      <td>184.100006</td>\n",
       "      <td>172.539993</td>\n",
       "      <td>184.899994</td>\n",
       "      <td>22434600</td>\n",
       "      <td>13880900</td>\n",
       "    </tr>\n",
       "    <tr>\n",
       "      <th>2018-01-05</th>\n",
       "      <td>169.457214</td>\n",
       "      <td>186.850006</td>\n",
       "      <td>175.000000</td>\n",
       "      <td>186.850006</td>\n",
       "      <td>175.369995</td>\n",
       "      <td>186.899994</td>\n",
       "      <td>173.050003</td>\n",
       "      <td>184.929993</td>\n",
       "      <td>173.440002</td>\n",
       "      <td>185.589996</td>\n",
       "      <td>23660000</td>\n",
       "      <td>13574500</td>\n",
       "    </tr>\n",
       "    <tr>\n",
       "      <th>2018-01-08</th>\n",
       "      <td>168.827820</td>\n",
       "      <td>188.279999</td>\n",
       "      <td>174.350006</td>\n",
       "      <td>188.279999</td>\n",
       "      <td>175.610001</td>\n",
       "      <td>188.899994</td>\n",
       "      <td>173.929993</td>\n",
       "      <td>186.330002</td>\n",
       "      <td>174.350006</td>\n",
       "      <td>187.199997</td>\n",
       "      <td>20567800</td>\n",
       "      <td>17994700</td>\n",
       "    </tr>\n",
       "  </tbody>\n",
       "</table>\n",
       "</div>"
      ],
      "text/plain": [
       "             Adj Close                   Close                    High  \\\n",
       "                  AAPL          FB        AAPL          FB        AAPL   \n",
       "Date                                                                     \n",
       "2018-01-02  166.804016  181.419998  172.259995  181.419998  172.300003   \n",
       "2018-01-03  166.774963  184.669998  172.229996  184.669998  174.550003   \n",
       "2018-01-04  167.549622  184.330002  173.029999  184.330002  173.470001   \n",
       "2018-01-05  169.457214  186.850006  175.000000  186.850006  175.369995   \n",
       "2018-01-08  168.827820  188.279999  174.350006  188.279999  175.610001   \n",
       "\n",
       "                               Low                    Open              \\\n",
       "                    FB        AAPL          FB        AAPL          FB   \n",
       "Date                                                                     \n",
       "2018-01-02  181.580002  169.259995  177.550003  170.160004  177.679993   \n",
       "2018-01-03  184.779999  171.960007  181.330002  172.529999  181.880005   \n",
       "2018-01-04  186.210007  172.080002  184.100006  172.539993  184.899994   \n",
       "2018-01-05  186.899994  173.050003  184.929993  173.440002  185.589996   \n",
       "2018-01-08  188.899994  173.929993  186.330002  174.350006  187.199997   \n",
       "\n",
       "              Volume            \n",
       "                AAPL        FB  \n",
       "Date                            \n",
       "2018-01-02  25555900  18151900  \n",
       "2018-01-03  29517900  16886600  \n",
       "2018-01-04  22434600  13880900  \n",
       "2018-01-05  23660000  13574500  \n",
       "2018-01-08  20567800  17994700  "
      ]
     },
     "execution_count": 3,
     "metadata": {},
     "output_type": "execute_result"
    }
   ],
   "source": [
    "ticker = ['AAPL','FB']\n",
    "df = yf.download(ticker, start='2018-01-01', end='2019-12-31', progress=False)\n",
    "df = df.replace(\"\", float(\"NaN\"))\n",
    "df = df.dropna()\n",
    "df.head()"
   ]
  },
  {
   "cell_type": "markdown",
   "metadata": {},
   "source": [
    "# 1b. Compute log return from 'Adj Close' stock price"
   ]
  },
  {
   "cell_type": "code",
   "execution_count": 4,
   "metadata": {},
   "outputs": [],
   "source": [
    "stock1_logreturn = np.log(df['Adj Close'][ticker[0]]) - np.log(df['Adj Close'][ticker[0]].shift(1))\n",
    "stock1_logreturn = stock1_logreturn.replace(0, float(\"NaN\"))\n",
    "stock1_logreturn = stock1_logreturn.dropna()\n",
    "\n",
    "stock2_logreturn = np.log(df['Adj Close'][ticker[1]]) - np.log(df['Adj Close'][ticker[1]].shift(1))\n",
    "stock2_logreturn = stock2_logreturn.replace(0, float(\"NaN\"))\n",
    "stock2_logreturn = stock2_logreturn.dropna()"
   ]
  },
  {
   "cell_type": "markdown",
   "metadata": {},
   "source": [
    "# 1c. Compute the mean, standard deviation, skewness, excess kurtosis of their log returns\n",
    "\n",
    "# 1d. Repeat for both stocks"
   ]
  },
  {
   "cell_type": "code",
   "execution_count": 5,
   "metadata": {},
   "outputs": [
    {
     "name": "stdout",
     "output_type": "stream",
     "text": [
      "AAPL log-return mean: 0.0011096178767915736\n",
      "AAPL log-return standard deviation: 0.01741569778107351\n",
      "AAPL log-return skewness: -0.5864202028626524\n",
      "AAPL log-return excess kurtosis: 4.339130586306103\n",
      "\n",
      "FB log return mean: 0.0002391042557785599\n",
      "FB log return standard deviation: 0.021440506052068688\n",
      "FB log return skewness: -1.850757057850761\n",
      "FB log return excess kurtosis: 20.33606009364708\n"
     ]
    }
   ],
   "source": [
    "stock1_logreturn_mean = stock1_logreturn.mean()\n",
    "stock1_logreturn_std = stock1_logreturn.std()\n",
    "stock1_logreturn_skew = stock1_logreturn.skew()\n",
    "stock1_logreturn_kurtosis = stock1_logreturn.kurtosis()\n",
    "print(f\"{ticker[0]} log-return mean: {stock1_logreturn_mean}\")\n",
    "print(f\"{ticker[0]} log-return standard deviation: {stock1_logreturn_std}\")\n",
    "print(f\"{ticker[0]} log-return skewness: {stock1_logreturn_skew}\")\n",
    "print(f\"{ticker[0]} log-return excess kurtosis: {stock1_logreturn_kurtosis}\")\n",
    "print()\n",
    "\n",
    "stock2_logreturn_mean = stock2_logreturn.mean()\n",
    "stock2_logreturn_std = stock2_logreturn.std()\n",
    "stock2_logreturn_skew = stock2_logreturn.skew()\n",
    "stock2_logreturn_kurtosis = stock2_logreturn.kurtosis()\n",
    "print(f\"{ticker[1]} log return mean: {stock2_logreturn_mean}\")\n",
    "print(f\"{ticker[1]} log return standard deviation: {stock2_logreturn_std}\")\n",
    "print(f\"{ticker[1]} log return skewness: {stock2_logreturn_skew}\")\n",
    "print(f\"{ticker[1]} log return excess kurtosis: {stock2_logreturn_kurtosis}\")"
   ]
  },
  {
   "cell_type": "markdown",
   "metadata": {},
   "source": [
    "# 1e. \n",
    "## Question 1: Compute covariance and correlation."
   ]
  },
  {
   "cell_type": "code",
   "execution_count": 6,
   "metadata": {},
   "outputs": [
    {
     "name": "stdout",
     "output_type": "stream",
     "text": [
      "AAPL - FB log return covariance\n",
      "          AAPL        FB\n",
      "AAPL  0.000303  0.000168\n",
      "FB    0.000168  0.000460\n",
      "\n",
      "AAPL - FB log return correlation\n",
      "          AAPL        FB\n",
      "AAPL  1.000000  0.450012\n",
      "FB    0.450012  1.000000\n"
     ]
    }
   ],
   "source": [
    "df_logreturn = pd.concat([stock1_logreturn, stock2_logreturn], axis=1)\n",
    "stock1_stock2_covariance = df_logreturn.cov()\n",
    "stock1_stock2_correlation = df_logreturn.corr()\n",
    "print(f\"{ticker[0]} - {ticker[1]} log return covariance\")\n",
    "print(stock1_stock2_covariance)\n",
    "print()\n",
    "print(f\"{ticker[0]} - {ticker[1]} log return correlation\")\n",
    "print(stock1_stock2_correlation)"
   ]
  },
  {
   "cell_type": "markdown",
   "metadata": {},
   "source": [
    "## Question 2: Explain their difference. How do you convert one to the other?\n",
    "### Covariance measures how two variables move with respect to each other. Correlation is a step ahead of covariance as it quantifies the relationship between two random variables, it's a unit measure of how these variables change with respect to each other (normalized covariance value)\n",
    "#### The Cov(AAPL, FB) = 0.000168 > 0 indicates that those stock log returns tend to move together. Cross check with Corr(AAPL, FB) = 0.450063 is the magnitude of the measurement how these two stocks change with respect to each other\n",
    "\n",
    "### Covariance = Correlation * Standard Deviation of Stock A * Standard Deviation of Stock B\n",
    "#### Cov(AAPL, FB) = Corr(AAPL, FB) * Std(AAPL) * Std(FB) = 0.450063*0.017415*0.021440 = 0.000168"
   ]
  },
  {
   "cell_type": "markdown",
   "metadata": {},
   "source": [
    "# 2.a Divide data into 2 parts: train dataset 80% data and test data set 20% data\n",
    "### Test data set is the latest data \n",
    "### Train data set is older than test data set"
   ]
  },
  {
   "cell_type": "code",
   "execution_count": 7,
   "metadata": {},
   "outputs": [],
   "source": [
    "df_train, df_test = train_test_split(df_logreturn, test_size=0.2, shuffle=False)\n",
    "df_train = df_train.dropna()\n",
    "df_test = df_test.dropna()"
   ]
  },
  {
   "cell_type": "markdown",
   "metadata": {},
   "source": [
    "# 2.b This function to categorize each day in 2 year prices history as beloging to one of four category:\n",
    "1. Both stocks up\n",
    "2. Stock \\#1 up, stock \\#2 down\n",
    "3. Stock \\#1 down, stock \\#2 up\n",
    "4. Both stocks down\n",
    "\n",
    "# 2.c Build transition matrix of portfolio direction"
   ]
  },
  {
   "cell_type": "code",
   "execution_count": 9,
   "metadata": {},
   "outputs": [],
   "source": [
    "def transition_matrix(df_input):\n",
    "    df_input['movement'] = ''\n",
    "    df_input = df_input.dropna()\n",
    "\n",
    "    STATE_UP_UP = 1\n",
    "    STATE_DOWN_DOWN = -1\n",
    "    STATE_UP_DOWN = 0.5\n",
    "    STATE_DOWN_UP = -0.5\n",
    "\n",
    "    for index, row in df_input.iterrows():\n",
    "        if row[ticker[0]] > 0 and row[ticker[1]] > 0:\n",
    "            df_input.loc[index, ['movement']] = STATE_UP_UP\n",
    "        elif row[ticker[0]] < 0 and row[ticker[1]] < 0:\n",
    "            df_input.loc[index, ['movement']] = STATE_DOWN_DOWN\n",
    "        elif row[ticker[0]] > 0 and row[ticker[1]] < 0:\n",
    "            df_input.loc[index, ['movement']] = STATE_UP_DOWN\n",
    "        elif row[ticker[0]] < 0 and row[ticker[1]] > 0:\n",
    "            df_input.loc[index, ['movement']] = STATE_DOWN_UP\n",
    "\n",
    "    df_input['movement_tomorrow'] = df_input['movement'].shift(-1)\n",
    "    together_together = 0\n",
    "    together_apart = 0\n",
    "    apart_together = 0\n",
    "    apart_apart = 0\n",
    "\n",
    "    for index, row in df_input.iterrows():\n",
    "        test = row['movement'] + row['movement_tomorrow']\n",
    "        # together then together\n",
    "        if test == 2 or test == -2:\n",
    "            together_together+=1\n",
    "        # apart then apart\n",
    "        elif test == 1 or test == -1:\n",
    "            apart_apart+=1\n",
    "        # distinguish together_together and apart_apart\n",
    "        elif test == 0:\n",
    "            if np.abs(row['movement']) == 1:\n",
    "                together_together += 1 \n",
    "            else:\n",
    "                apart_apart += 1\n",
    "        # apart_together and together_apart\n",
    "        elif np.abs(test) == 0.5 or np.abs(test) == 1.5:\n",
    "            if np.abs(row['movement']) == 1:\n",
    "                together_apart +=1\n",
    "            else:\n",
    "                apart_together += 1\n",
    "\n",
    "    columns = {\n",
    "        'together':[together_together/(together_together+together_apart), apart_together/(apart_together+apart_apart)],\n",
    "        'apart':[together_apart/(together_together+together_apart), apart_apart/(apart_together+apart_apart)],\n",
    "    }\n",
    "    transition_matrix = pd.DataFrame(columns, index=['together', 'apart'])\n",
    "\n",
    "    return transition_matrix"
   ]
  },
  {
   "cell_type": "code",
   "execution_count": 10,
   "metadata": {},
   "outputs": [
    {
     "data": {
      "text/html": [
       "<div>\n",
       "<style scoped>\n",
       "    .dataframe tbody tr th:only-of-type {\n",
       "        vertical-align: middle;\n",
       "    }\n",
       "\n",
       "    .dataframe tbody tr th {\n",
       "        vertical-align: top;\n",
       "    }\n",
       "\n",
       "    .dataframe thead th {\n",
       "        text-align: right;\n",
       "    }\n",
       "</style>\n",
       "<table border=\"1\" class=\"dataframe\">\n",
       "  <thead>\n",
       "    <tr style=\"text-align: right;\">\n",
       "      <th></th>\n",
       "      <th>together</th>\n",
       "      <th>apart</th>\n",
       "    </tr>\n",
       "  </thead>\n",
       "  <tbody>\n",
       "    <tr>\n",
       "      <th>together</th>\n",
       "      <td>0.676471</td>\n",
       "      <td>0.323529</td>\n",
       "    </tr>\n",
       "    <tr>\n",
       "      <th>apart</th>\n",
       "      <td>0.656250</td>\n",
       "      <td>0.343750</td>\n",
       "    </tr>\n",
       "  </tbody>\n",
       "</table>\n",
       "</div>"
      ],
      "text/plain": [
       "          together     apart\n",
       "together  0.676471  0.323529\n",
       "apart     0.656250  0.343750"
      ]
     },
     "execution_count": 10,
     "metadata": {},
     "output_type": "execute_result"
    }
   ],
   "source": [
    "# Transition matrix of test data set 20% data\n",
    "test_transition_matrix = transition_matrix(df_test)\n",
    "test_transition_matrix.head()"
   ]
  },
  {
   "cell_type": "code",
   "execution_count": 11,
   "metadata": {},
   "outputs": [
    {
     "data": {
      "text/html": [
       "<div>\n",
       "<style scoped>\n",
       "    .dataframe tbody tr th:only-of-type {\n",
       "        vertical-align: middle;\n",
       "    }\n",
       "\n",
       "    .dataframe tbody tr th {\n",
       "        vertical-align: top;\n",
       "    }\n",
       "\n",
       "    .dataframe thead th {\n",
       "        text-align: right;\n",
       "    }\n",
       "</style>\n",
       "<table border=\"1\" class=\"dataframe\">\n",
       "  <thead>\n",
       "    <tr style=\"text-align: right;\">\n",
       "      <th></th>\n",
       "      <th>together</th>\n",
       "      <th>apart</th>\n",
       "    </tr>\n",
       "  </thead>\n",
       "  <tbody>\n",
       "    <tr>\n",
       "      <th>together</th>\n",
       "      <td>0.665370</td>\n",
       "      <td>0.334630</td>\n",
       "    </tr>\n",
       "    <tr>\n",
       "      <th>apart</th>\n",
       "      <td>0.621429</td>\n",
       "      <td>0.378571</td>\n",
       "    </tr>\n",
       "  </tbody>\n",
       "</table>\n",
       "</div>"
      ],
      "text/plain": [
       "          together     apart\n",
       "together  0.665370  0.334630\n",
       "apart     0.621429  0.378571"
      ]
     },
     "execution_count": 11,
     "metadata": {},
     "output_type": "execute_result"
    }
   ],
   "source": [
    "# Transition matrix of train data set 80% data\n",
    "train_transition_matrix = transition_matrix(df_train)\n",
    "train_transition_matrix.head()"
   ]
  },
  {
   "cell_type": "markdown",
   "metadata": {},
   "source": [
    "# 2.d\n",
    "### Both train and test data set shows the dominance probability of the portfolio moves from together to together, apart to together compares to other 2 scenarios that the portfolio moves from apart to apart and together to apart.\n",
    "### The 20% latest data (test data set) illustrates the increase in scenarios moving together to together, apart to together. Which means the portoflio recently tends to more moving according to those 2 scenarios.\n",
    "### The 80% older data (train data set) has more probability regarding the scenarios that the portfolio moves from together to apart, apart to apart. Which means the portoflio recently tends to less moving according to those 2 scenarios.\n",
    "\n",
    "# 2.e Is the process Markovian?\n",
    "### This process is Markovian, because it's memory-less. This process estimates the probability that the portfolio return moves from yesterday state to today state without considering the historical data"
   ]
  },
  {
   "cell_type": "code",
   "execution_count": null,
   "metadata": {},
   "outputs": [],
   "source": []
  }
 ],
 "metadata": {
  "file_extension": ".py",
  "kernelspec": {
   "display_name": "Python 3.7.1 64-bit ('base': conda)",
   "language": "python",
   "name": "python37164bitbasecondabfe03ca567934ef3bac9ab20275bd9ec"
  },
  "language_info": {
   "codemirror_mode": {
    "name": "ipython",
    "version": 3
   },
   "file_extension": ".py",
   "mimetype": "text/x-python",
   "name": "python",
   "nbconvert_exporter": "python",
   "pygments_lexer": "ipython3",
   "version": "3.7.1"
  },
  "mimetype": "text/x-python",
  "name": "python",
  "npconvert_exporter": "python",
  "pygments_lexer": "ipython3",
  "version": 3
 },
 "nbformat": 4,
 "nbformat_minor": 2
}
